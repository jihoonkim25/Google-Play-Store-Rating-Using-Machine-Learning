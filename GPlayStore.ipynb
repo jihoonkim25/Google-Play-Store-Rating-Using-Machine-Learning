{
 "cells": [
  {
   "cell_type": "markdown",
   "metadata": {},
   "source": [
    "# GPlayStore Data Analysis"
   ]
  },
  {
   "cell_type": "markdown",
   "metadata": {},
   "source": [
    "## Import Libraries"
   ]
  },
  {
   "cell_type": "code",
   "execution_count": 1,
   "metadata": {},
   "outputs": [],
   "source": [
    "import pandas as pd\n",
    "from sklearn.metrics import accuracy_score\n",
    "from sklearn.tree import DecisionTreeRegressor\n",
    "from sklearn.model_selection import train_test_split\n",
    "from sklearn.tree import DecisionTreeClassifier\n",
    "from sklearn.linear_model import LinearRegression\n",
    "from sklearn.metrics import mean_squared_error\n",
    "from math import sqrt\n",
    "import numpy as np\n",
    "import matplotlib.pyplot as plt\n",
    "%matplotlib inline"
   ]
  },
  {
   "cell_type": "markdown",
   "metadata": {},
   "source": [
    "## Read Data from the Database into pandas"
   ]
  },
  {
   "cell_type": "code",
   "execution_count": 2,
   "metadata": {},
   "outputs": [
    {
     "name": "stdout",
     "output_type": "stream",
     "text": [
      " googleplaystore.csv\t\t    GPlayStore.ipynb\r\n",
      " googleplaystore_user_reviews.csv   StudentsPerformance.csv\r\n",
      "'GPlayStore for GitHub.ipynb'\t   'Students Performance in Exams.ipynb'\r\n"
     ]
    }
   ],
   "source": [
    "!ls"
   ]
  },
  {
   "cell_type": "code",
   "execution_count": 3,
   "metadata": {},
   "outputs": [],
   "source": [
    "P_Store = pd.read_csv('./googleplaystore.csv')"
   ]
  },
  {
   "cell_type": "code",
   "execution_count": 4,
   "metadata": {},
   "outputs": [],
   "source": [
    "PS_Reviews = pd.read_csv('./googleplaystore_user_reviews.csv')"
   ]
  },
  {
   "cell_type": "code",
   "execution_count": 5,
   "metadata": {
    "scrolled": true
   },
   "outputs": [
    {
     "data": {
      "text/html": [
       "<div>\n",
       "<style scoped>\n",
       "    .dataframe tbody tr th:only-of-type {\n",
       "        vertical-align: middle;\n",
       "    }\n",
       "\n",
       "    .dataframe tbody tr th {\n",
       "        vertical-align: top;\n",
       "    }\n",
       "\n",
       "    .dataframe thead th {\n",
       "        text-align: right;\n",
       "    }\n",
       "</style>\n",
       "<table border=\"1\" class=\"dataframe\">\n",
       "  <thead>\n",
       "    <tr style=\"text-align: right;\">\n",
       "      <th></th>\n",
       "      <th>App</th>\n",
       "      <th>Category</th>\n",
       "      <th>Rating</th>\n",
       "      <th>Reviews</th>\n",
       "      <th>Size</th>\n",
       "      <th>Installs</th>\n",
       "      <th>Type</th>\n",
       "      <th>Price</th>\n",
       "      <th>Content Rating</th>\n",
       "      <th>Genres</th>\n",
       "      <th>Last Updated</th>\n",
       "      <th>Current Ver</th>\n",
       "      <th>Android Ver</th>\n",
       "    </tr>\n",
       "  </thead>\n",
       "  <tbody>\n",
       "    <tr>\n",
       "      <th>0</th>\n",
       "      <td>Photo Editor &amp; Candy Camera &amp; Grid &amp; ScrapBook</td>\n",
       "      <td>ART_AND_DESIGN</td>\n",
       "      <td>4.1</td>\n",
       "      <td>159</td>\n",
       "      <td>19M</td>\n",
       "      <td>10,000+</td>\n",
       "      <td>Free</td>\n",
       "      <td>0</td>\n",
       "      <td>Everyone</td>\n",
       "      <td>Art &amp; Design</td>\n",
       "      <td>January 7, 2018</td>\n",
       "      <td>1.0.0</td>\n",
       "      <td>4.0.3 and up</td>\n",
       "    </tr>\n",
       "    <tr>\n",
       "      <th>1</th>\n",
       "      <td>Coloring book moana</td>\n",
       "      <td>ART_AND_DESIGN</td>\n",
       "      <td>3.9</td>\n",
       "      <td>967</td>\n",
       "      <td>14M</td>\n",
       "      <td>500,000+</td>\n",
       "      <td>Free</td>\n",
       "      <td>0</td>\n",
       "      <td>Everyone</td>\n",
       "      <td>Art &amp; Design;Pretend Play</td>\n",
       "      <td>January 15, 2018</td>\n",
       "      <td>2.0.0</td>\n",
       "      <td>4.0.3 and up</td>\n",
       "    </tr>\n",
       "    <tr>\n",
       "      <th>2</th>\n",
       "      <td>U Launcher Lite – FREE Live Cool Themes, Hide ...</td>\n",
       "      <td>ART_AND_DESIGN</td>\n",
       "      <td>4.7</td>\n",
       "      <td>87510</td>\n",
       "      <td>8.7M</td>\n",
       "      <td>5,000,000+</td>\n",
       "      <td>Free</td>\n",
       "      <td>0</td>\n",
       "      <td>Everyone</td>\n",
       "      <td>Art &amp; Design</td>\n",
       "      <td>August 1, 2018</td>\n",
       "      <td>1.2.4</td>\n",
       "      <td>4.0.3 and up</td>\n",
       "    </tr>\n",
       "    <tr>\n",
       "      <th>3</th>\n",
       "      <td>Sketch - Draw &amp; Paint</td>\n",
       "      <td>ART_AND_DESIGN</td>\n",
       "      <td>4.5</td>\n",
       "      <td>215644</td>\n",
       "      <td>25M</td>\n",
       "      <td>50,000,000+</td>\n",
       "      <td>Free</td>\n",
       "      <td>0</td>\n",
       "      <td>Teen</td>\n",
       "      <td>Art &amp; Design</td>\n",
       "      <td>June 8, 2018</td>\n",
       "      <td>Varies with device</td>\n",
       "      <td>4.2 and up</td>\n",
       "    </tr>\n",
       "    <tr>\n",
       "      <th>4</th>\n",
       "      <td>Pixel Draw - Number Art Coloring Book</td>\n",
       "      <td>ART_AND_DESIGN</td>\n",
       "      <td>4.3</td>\n",
       "      <td>967</td>\n",
       "      <td>2.8M</td>\n",
       "      <td>100,000+</td>\n",
       "      <td>Free</td>\n",
       "      <td>0</td>\n",
       "      <td>Everyone</td>\n",
       "      <td>Art &amp; Design;Creativity</td>\n",
       "      <td>June 20, 2018</td>\n",
       "      <td>1.1</td>\n",
       "      <td>4.4 and up</td>\n",
       "    </tr>\n",
       "  </tbody>\n",
       "</table>\n",
       "</div>"
      ],
      "text/plain": [
       "                                                 App        Category  Rating  \\\n",
       "0     Photo Editor & Candy Camera & Grid & ScrapBook  ART_AND_DESIGN     4.1   \n",
       "1                                Coloring book moana  ART_AND_DESIGN     3.9   \n",
       "2  U Launcher Lite – FREE Live Cool Themes, Hide ...  ART_AND_DESIGN     4.7   \n",
       "3                              Sketch - Draw & Paint  ART_AND_DESIGN     4.5   \n",
       "4              Pixel Draw - Number Art Coloring Book  ART_AND_DESIGN     4.3   \n",
       "\n",
       "  Reviews  Size     Installs  Type Price Content Rating  \\\n",
       "0     159   19M      10,000+  Free     0       Everyone   \n",
       "1     967   14M     500,000+  Free     0       Everyone   \n",
       "2   87510  8.7M   5,000,000+  Free     0       Everyone   \n",
       "3  215644   25M  50,000,000+  Free     0           Teen   \n",
       "4     967  2.8M     100,000+  Free     0       Everyone   \n",
       "\n",
       "                      Genres      Last Updated         Current Ver  \\\n",
       "0               Art & Design   January 7, 2018               1.0.0   \n",
       "1  Art & Design;Pretend Play  January 15, 2018               2.0.0   \n",
       "2               Art & Design    August 1, 2018               1.2.4   \n",
       "3               Art & Design      June 8, 2018  Varies with device   \n",
       "4    Art & Design;Creativity     June 20, 2018                 1.1   \n",
       "\n",
       "    Android Ver  \n",
       "0  4.0.3 and up  \n",
       "1  4.0.3 and up  \n",
       "2  4.0.3 and up  \n",
       "3    4.2 and up  \n",
       "4    4.4 and up  "
      ]
     },
     "execution_count": 5,
     "metadata": {},
     "output_type": "execute_result"
    }
   ],
   "source": [
    "P_Store.head()"
   ]
  },
  {
   "cell_type": "markdown",
   "metadata": {},
   "source": [
    "## Cleaning Data in P_Store DataFrame"
   ]
  },
  {
   "cell_type": "code",
   "execution_count": 6,
   "metadata": {},
   "outputs": [
    {
     "data": {
      "text/plain": [
       "App               False\n",
       "Category          False\n",
       "Rating             True\n",
       "Reviews           False\n",
       "Size              False\n",
       "Installs          False\n",
       "Type               True\n",
       "Price             False\n",
       "Content Rating     True\n",
       "Genres            False\n",
       "Last Updated      False\n",
       "Current Ver        True\n",
       "Android Ver        True\n",
       "dtype: bool"
      ]
     },
     "execution_count": 6,
     "metadata": {},
     "output_type": "execute_result"
    }
   ],
   "source": [
    "P_Store.isnull().any()"
   ]
  },
  {
   "cell_type": "code",
   "execution_count": 7,
   "metadata": {},
   "outputs": [],
   "source": [
    "before_rows = P_Store.shape[0]"
   ]
  },
  {
   "cell_type": "code",
   "execution_count": 8,
   "metadata": {},
   "outputs": [],
   "source": [
    "P_Store = P_Store.dropna()"
   ]
  },
  {
   "cell_type": "code",
   "execution_count": 9,
   "metadata": {},
   "outputs": [
    {
     "name": "stdout",
     "output_type": "stream",
     "text": [
      "9360\n"
     ]
    }
   ],
   "source": [
    "after_rows = P_Store.shape[0]\n",
    "print(after_rows)"
   ]
  },
  {
   "cell_type": "code",
   "execution_count": 10,
   "metadata": {},
   "outputs": [
    {
     "data": {
      "text/plain": [
       "1481"
      ]
     },
     "execution_count": 10,
     "metadata": {},
     "output_type": "execute_result"
    }
   ],
   "source": [
    "before_rows - after_rows"
   ]
  },
  {
   "cell_type": "code",
   "execution_count": 11,
   "metadata": {},
   "outputs": [],
   "source": [
    "P_Store['Installs'] = P_Store.Installs.str.replace('+','')\n",
    "P_Store['Installs'] = P_Store.Installs.str.replace(',','')"
   ]
  },
  {
   "cell_type": "code",
   "execution_count": 12,
   "metadata": {},
   "outputs": [],
   "source": [
    "P_Store['Price'] = P_Store.Price.str.replace('$','')"
   ]
  },
  {
   "cell_type": "code",
   "execution_count": 13,
   "metadata": {},
   "outputs": [],
   "source": [
    "P_Store['Size'] = P_Store.Size.str.replace('M','')\n",
    "P_Store['Size'] = P_Store.Size.str.replace('k','000')"
   ]
  },
  {
   "cell_type": "code",
   "execution_count": 14,
   "metadata": {},
   "outputs": [
    {
     "data": {
      "text/plain": [
       "array(['Everyone', 'Teen', 'Everyone 10+', 'Mature 17+',\n",
       "       'Adults only 18+', 'Unrated'], dtype=object)"
      ]
     },
     "execution_count": 14,
     "metadata": {},
     "output_type": "execute_result"
    }
   ],
   "source": [
    "P_Store['Content Rating'].unique()"
   ]
  },
  {
   "cell_type": "code",
   "execution_count": 15,
   "metadata": {},
   "outputs": [],
   "source": [
    "# replace all content ratings with integers so it cna be considered as a feature for Regression\n",
    "P_Store['Content Rating'] = P_Store['Content Rating'].str.replace('Everyone 10+','1')\n",
    "P_Store['Content Rating'] = P_Store['Content Rating'].str.replace('Everyone','0')\n",
    "P_Store['Content Rating'] = P_Store['Content Rating'].str.replace('Teen','2')\n",
    "P_Store['Content Rating'] = P_Store['Content Rating'].str.replace('Mature 17+','3')\n",
    "P_Store['Content Rating'] = P_Store['Content Rating'].str.replace('Adults only 18+','4')\n",
    "P_Store['Content Rating'] = P_Store['Content Rating'].str.replace('Unrated','5')\n",
    "P_Store['Content Rating'] = P_Store['Content Rating'].str.replace('+','')"
   ]
  },
  {
   "cell_type": "code",
   "execution_count": 16,
   "metadata": {},
   "outputs": [],
   "source": [
    "#delete rows that have 'Varies with device' in Size\n",
    "P_Store = P_Store[~P_Store.Size.str.contains('Varies with device')]"
   ]
  },
  {
   "cell_type": "code",
   "execution_count": 17,
   "metadata": {},
   "outputs": [],
   "source": [
    "del P_Store['Category']\n",
    "del P_Store['Current Ver']\n",
    "del P_Store['Last Updated']\n",
    "del P_Store['Android Ver']\n",
    "del P_Store['Type']\n",
    "del P_Store['Genres']"
   ]
  },
  {
   "cell_type": "code",
   "execution_count": 18,
   "metadata": {},
   "outputs": [
    {
     "data": {
      "text/html": [
       "<div>\n",
       "<style scoped>\n",
       "    .dataframe tbody tr th:only-of-type {\n",
       "        vertical-align: middle;\n",
       "    }\n",
       "\n",
       "    .dataframe tbody tr th {\n",
       "        vertical-align: top;\n",
       "    }\n",
       "\n",
       "    .dataframe thead th {\n",
       "        text-align: right;\n",
       "    }\n",
       "</style>\n",
       "<table border=\"1\" class=\"dataframe\">\n",
       "  <thead>\n",
       "    <tr style=\"text-align: right;\">\n",
       "      <th></th>\n",
       "      <th>App</th>\n",
       "      <th>Rating</th>\n",
       "      <th>Reviews</th>\n",
       "      <th>Size</th>\n",
       "      <th>Installs</th>\n",
       "      <th>Price</th>\n",
       "      <th>Content Rating</th>\n",
       "    </tr>\n",
       "  </thead>\n",
       "  <tbody>\n",
       "    <tr>\n",
       "      <th>0</th>\n",
       "      <td>Photo Editor &amp; Candy Camera &amp; Grid &amp; ScrapBook</td>\n",
       "      <td>4.1</td>\n",
       "      <td>159</td>\n",
       "      <td>19</td>\n",
       "      <td>10000</td>\n",
       "      <td>0</td>\n",
       "      <td>0</td>\n",
       "    </tr>\n",
       "    <tr>\n",
       "      <th>1</th>\n",
       "      <td>Coloring book moana</td>\n",
       "      <td>3.9</td>\n",
       "      <td>967</td>\n",
       "      <td>14</td>\n",
       "      <td>500000</td>\n",
       "      <td>0</td>\n",
       "      <td>0</td>\n",
       "    </tr>\n",
       "    <tr>\n",
       "      <th>2</th>\n",
       "      <td>U Launcher Lite – FREE Live Cool Themes, Hide ...</td>\n",
       "      <td>4.7</td>\n",
       "      <td>87510</td>\n",
       "      <td>8.7</td>\n",
       "      <td>5000000</td>\n",
       "      <td>0</td>\n",
       "      <td>0</td>\n",
       "    </tr>\n",
       "    <tr>\n",
       "      <th>3</th>\n",
       "      <td>Sketch - Draw &amp; Paint</td>\n",
       "      <td>4.5</td>\n",
       "      <td>215644</td>\n",
       "      <td>25</td>\n",
       "      <td>50000000</td>\n",
       "      <td>0</td>\n",
       "      <td>2</td>\n",
       "    </tr>\n",
       "    <tr>\n",
       "      <th>4</th>\n",
       "      <td>Pixel Draw - Number Art Coloring Book</td>\n",
       "      <td>4.3</td>\n",
       "      <td>967</td>\n",
       "      <td>2.8</td>\n",
       "      <td>100000</td>\n",
       "      <td>0</td>\n",
       "      <td>0</td>\n",
       "    </tr>\n",
       "  </tbody>\n",
       "</table>\n",
       "</div>"
      ],
      "text/plain": [
       "                                                 App  Rating Reviews Size  \\\n",
       "0     Photo Editor & Candy Camera & Grid & ScrapBook     4.1     159   19   \n",
       "1                                Coloring book moana     3.9     967   14   \n",
       "2  U Launcher Lite – FREE Live Cool Themes, Hide ...     4.7   87510  8.7   \n",
       "3                              Sketch - Draw & Paint     4.5  215644   25   \n",
       "4              Pixel Draw - Number Art Coloring Book     4.3     967  2.8   \n",
       "\n",
       "   Installs Price Content Rating  \n",
       "0     10000     0              0  \n",
       "1    500000     0              0  \n",
       "2   5000000     0              0  \n",
       "3  50000000     0              2  \n",
       "4    100000     0              0  "
      ]
     },
     "execution_count": 18,
     "metadata": {},
     "output_type": "execute_result"
    }
   ],
   "source": [
    "P_Store.head()"
   ]
  },
  {
   "cell_type": "code",
   "execution_count": 19,
   "metadata": {},
   "outputs": [],
   "source": [
    "P_Store['Reviews'] = P_Store['Reviews'].astype(int) \n",
    "P_Store['Rating'] = P_Store['Rating'].astype(float) \n",
    "P_Store['Size'] = P_Store['Size'].astype(float) \n",
    "P_Store['Installs'] = P_Store['Installs'].astype(int) \n",
    "P_Store['Content Rating'] = P_Store['Content Rating'].astype(int) \n",
    "P_Store['Price'] = P_Store['Price'].astype(float) "
   ]
  },
  {
   "cell_type": "markdown",
   "metadata": {},
   "source": [
    " ## Cleaning Data in PS_Reviews DataFrame"
   ]
  },
  {
   "cell_type": "code",
   "execution_count": 20,
   "metadata": {},
   "outputs": [
    {
     "data": {
      "text/html": [
       "<div>\n",
       "<style scoped>\n",
       "    .dataframe tbody tr th:only-of-type {\n",
       "        vertical-align: middle;\n",
       "    }\n",
       "\n",
       "    .dataframe tbody tr th {\n",
       "        vertical-align: top;\n",
       "    }\n",
       "\n",
       "    .dataframe thead th {\n",
       "        text-align: right;\n",
       "    }\n",
       "</style>\n",
       "<table border=\"1\" class=\"dataframe\">\n",
       "  <thead>\n",
       "    <tr style=\"text-align: right;\">\n",
       "      <th></th>\n",
       "      <th>App</th>\n",
       "      <th>Translated_Review</th>\n",
       "      <th>Sentiment</th>\n",
       "      <th>Sentiment_Polarity</th>\n",
       "      <th>Sentiment_Subjectivity</th>\n",
       "    </tr>\n",
       "  </thead>\n",
       "  <tbody>\n",
       "    <tr>\n",
       "      <th>0</th>\n",
       "      <td>10 Best Foods for You</td>\n",
       "      <td>I like eat delicious food. That's I'm cooking ...</td>\n",
       "      <td>Positive</td>\n",
       "      <td>1.00</td>\n",
       "      <td>0.533333</td>\n",
       "    </tr>\n",
       "    <tr>\n",
       "      <th>1</th>\n",
       "      <td>10 Best Foods for You</td>\n",
       "      <td>This help eating healthy exercise regular basis</td>\n",
       "      <td>Positive</td>\n",
       "      <td>0.25</td>\n",
       "      <td>0.288462</td>\n",
       "    </tr>\n",
       "    <tr>\n",
       "      <th>2</th>\n",
       "      <td>10 Best Foods for You</td>\n",
       "      <td>NaN</td>\n",
       "      <td>NaN</td>\n",
       "      <td>NaN</td>\n",
       "      <td>NaN</td>\n",
       "    </tr>\n",
       "    <tr>\n",
       "      <th>3</th>\n",
       "      <td>10 Best Foods for You</td>\n",
       "      <td>Works great especially going grocery store</td>\n",
       "      <td>Positive</td>\n",
       "      <td>0.40</td>\n",
       "      <td>0.875000</td>\n",
       "    </tr>\n",
       "    <tr>\n",
       "      <th>4</th>\n",
       "      <td>10 Best Foods for You</td>\n",
       "      <td>Best idea us</td>\n",
       "      <td>Positive</td>\n",
       "      <td>1.00</td>\n",
       "      <td>0.300000</td>\n",
       "    </tr>\n",
       "  </tbody>\n",
       "</table>\n",
       "</div>"
      ],
      "text/plain": [
       "                     App                                  Translated_Review  \\\n",
       "0  10 Best Foods for You  I like eat delicious food. That's I'm cooking ...   \n",
       "1  10 Best Foods for You    This help eating healthy exercise regular basis   \n",
       "2  10 Best Foods for You                                                NaN   \n",
       "3  10 Best Foods for You         Works great especially going grocery store   \n",
       "4  10 Best Foods for You                                       Best idea us   \n",
       "\n",
       "  Sentiment  Sentiment_Polarity  Sentiment_Subjectivity  \n",
       "0  Positive                1.00                0.533333  \n",
       "1  Positive                0.25                0.288462  \n",
       "2       NaN                 NaN                     NaN  \n",
       "3  Positive                0.40                0.875000  \n",
       "4  Positive                1.00                0.300000  "
      ]
     },
     "execution_count": 20,
     "metadata": {},
     "output_type": "execute_result"
    }
   ],
   "source": [
    "PS_Reviews.head()"
   ]
  },
  {
   "cell_type": "code",
   "execution_count": 21,
   "metadata": {},
   "outputs": [
    {
     "data": {
      "text/plain": [
       "64295"
      ]
     },
     "execution_count": 21,
     "metadata": {},
     "output_type": "execute_result"
    }
   ],
   "source": [
    "before_rows = PS_Reviews.shape[0]\n",
    "before_rows"
   ]
  },
  {
   "cell_type": "code",
   "execution_count": 22,
   "metadata": {},
   "outputs": [],
   "source": [
    "PS_Reviews = PS_Reviews.dropna(subset = ['Translated_Review'])\n",
    "PS_Reviews = PS_Reviews.dropna(subset = ['Sentiment'])\n",
    "PS_Reviews = PS_Reviews.dropna(subset = ['Sentiment_Polarity'])\n",
    "PS_Reviews = PS_Reviews.dropna(subset = ['Sentiment_Subjectivity'])"
   ]
  },
  {
   "cell_type": "code",
   "execution_count": 23,
   "metadata": {},
   "outputs": [
    {
     "data": {
      "text/plain": [
       "37427"
      ]
     },
     "execution_count": 23,
     "metadata": {},
     "output_type": "execute_result"
    }
   ],
   "source": [
    "after_rows = PS_Reviews.shape[0]\n",
    "after_rows"
   ]
  },
  {
   "cell_type": "code",
   "execution_count": 24,
   "metadata": {},
   "outputs": [
    {
     "data": {
      "text/plain": [
       "26868"
      ]
     },
     "execution_count": 24,
     "metadata": {},
     "output_type": "execute_result"
    }
   ],
   "source": [
    "before_rows-after_rows"
   ]
  },
  {
   "cell_type": "code",
   "execution_count": 25,
   "metadata": {
    "scrolled": true
   },
   "outputs": [
    {
     "data": {
      "text/html": [
       "<div>\n",
       "<style scoped>\n",
       "    .dataframe tbody tr th:only-of-type {\n",
       "        vertical-align: middle;\n",
       "    }\n",
       "\n",
       "    .dataframe tbody tr th {\n",
       "        vertical-align: top;\n",
       "    }\n",
       "\n",
       "    .dataframe thead th {\n",
       "        text-align: right;\n",
       "    }\n",
       "</style>\n",
       "<table border=\"1\" class=\"dataframe\">\n",
       "  <thead>\n",
       "    <tr style=\"text-align: right;\">\n",
       "      <th></th>\n",
       "      <th>App</th>\n",
       "      <th>Translated_Review</th>\n",
       "      <th>Sentiment</th>\n",
       "      <th>Sentiment_Polarity</th>\n",
       "      <th>Sentiment_Subjectivity</th>\n",
       "    </tr>\n",
       "  </thead>\n",
       "  <tbody>\n",
       "    <tr>\n",
       "      <th>0</th>\n",
       "      <td>10 Best Foods for You</td>\n",
       "      <td>I like eat delicious food. That's I'm cooking ...</td>\n",
       "      <td>Positive</td>\n",
       "      <td>1.00</td>\n",
       "      <td>0.533333</td>\n",
       "    </tr>\n",
       "    <tr>\n",
       "      <th>1</th>\n",
       "      <td>10 Best Foods for You</td>\n",
       "      <td>This help eating healthy exercise regular basis</td>\n",
       "      <td>Positive</td>\n",
       "      <td>0.25</td>\n",
       "      <td>0.288462</td>\n",
       "    </tr>\n",
       "    <tr>\n",
       "      <th>3</th>\n",
       "      <td>10 Best Foods for You</td>\n",
       "      <td>Works great especially going grocery store</td>\n",
       "      <td>Positive</td>\n",
       "      <td>0.40</td>\n",
       "      <td>0.875000</td>\n",
       "    </tr>\n",
       "    <tr>\n",
       "      <th>4</th>\n",
       "      <td>10 Best Foods for You</td>\n",
       "      <td>Best idea us</td>\n",
       "      <td>Positive</td>\n",
       "      <td>1.00</td>\n",
       "      <td>0.300000</td>\n",
       "    </tr>\n",
       "    <tr>\n",
       "      <th>5</th>\n",
       "      <td>10 Best Foods for You</td>\n",
       "      <td>Best way</td>\n",
       "      <td>Positive</td>\n",
       "      <td>1.00</td>\n",
       "      <td>0.300000</td>\n",
       "    </tr>\n",
       "  </tbody>\n",
       "</table>\n",
       "</div>"
      ],
      "text/plain": [
       "                     App                                  Translated_Review  \\\n",
       "0  10 Best Foods for You  I like eat delicious food. That's I'm cooking ...   \n",
       "1  10 Best Foods for You    This help eating healthy exercise regular basis   \n",
       "3  10 Best Foods for You         Works great especially going grocery store   \n",
       "4  10 Best Foods for You                                       Best idea us   \n",
       "5  10 Best Foods for You                                           Best way   \n",
       "\n",
       "  Sentiment  Sentiment_Polarity  Sentiment_Subjectivity  \n",
       "0  Positive                1.00                0.533333  \n",
       "1  Positive                0.25                0.288462  \n",
       "3  Positive                0.40                0.875000  \n",
       "4  Positive                1.00                0.300000  \n",
       "5  Positive                1.00                0.300000  "
      ]
     },
     "execution_count": 25,
     "metadata": {},
     "output_type": "execute_result"
    }
   ],
   "source": [
    "PS_Reviews.head()"
   ]
  },
  {
   "cell_type": "code",
   "execution_count": 26,
   "metadata": {},
   "outputs": [],
   "source": [
    "PS_Reviews['Sentiment_Polarity'] = PS_Reviews['Sentiment_Polarity'].astype(float)"
   ]
  },
  {
   "cell_type": "code",
   "execution_count": 27,
   "metadata": {},
   "outputs": [
    {
     "data": {
      "text/plain": [
       "(865,)"
      ]
     },
     "execution_count": 27,
     "metadata": {},
     "output_type": "execute_result"
    }
   ],
   "source": [
    "unique_apps_review = PS_Reviews['App'].unique()\n",
    "unique_apps_review.shape"
   ]
  },
  {
   "cell_type": "code",
   "execution_count": 28,
   "metadata": {},
   "outputs": [
    {
     "data": {
      "text/plain": [
       "(7723, 7)"
      ]
     },
     "execution_count": 28,
     "metadata": {},
     "output_type": "execute_result"
    }
   ],
   "source": [
    "P_Store.shape"
   ]
  },
  {
   "cell_type": "markdown",
   "metadata": {},
   "source": [
    "### Delete Apps/Rows in P_Store and PS_Reviews DataFrame since there aren't any reviews for certain apps."
   ]
  },
  {
   "cell_type": "code",
   "execution_count": 29,
   "metadata": {},
   "outputs": [],
   "source": [
    "# merge both Dataframes to delete uneeded rows\n",
    "merged_inner = pd.merge(P_Store, PS_Reviews, how = 'inner')"
   ]
  },
  {
   "cell_type": "code",
   "execution_count": 30,
   "metadata": {},
   "outputs": [],
   "source": [
    "del merged_inner['Translated_Review']\n",
    "del merged_inner['Sentiment']"
   ]
  },
  {
   "cell_type": "code",
   "execution_count": 31,
   "metadata": {},
   "outputs": [
    {
     "data": {
      "text/html": [
       "<div>\n",
       "<style scoped>\n",
       "    .dataframe tbody tr th:only-of-type {\n",
       "        vertical-align: middle;\n",
       "    }\n",
       "\n",
       "    .dataframe tbody tr th {\n",
       "        vertical-align: top;\n",
       "    }\n",
       "\n",
       "    .dataframe thead th {\n",
       "        text-align: right;\n",
       "    }\n",
       "</style>\n",
       "<table border=\"1\" class=\"dataframe\">\n",
       "  <thead>\n",
       "    <tr style=\"text-align: right;\">\n",
       "      <th></th>\n",
       "      <th>App</th>\n",
       "      <th>Rating</th>\n",
       "      <th>Reviews</th>\n",
       "      <th>Size</th>\n",
       "      <th>Installs</th>\n",
       "      <th>Price</th>\n",
       "      <th>Content Rating</th>\n",
       "      <th>Sentiment_Polarity</th>\n",
       "      <th>Sentiment_Subjectivity</th>\n",
       "    </tr>\n",
       "  </thead>\n",
       "  <tbody>\n",
       "    <tr>\n",
       "      <th>0</th>\n",
       "      <td>Coloring book moana</td>\n",
       "      <td>3.9</td>\n",
       "      <td>967</td>\n",
       "      <td>14.0</td>\n",
       "      <td>500000</td>\n",
       "      <td>0.0</td>\n",
       "      <td>0</td>\n",
       "      <td>-0.250</td>\n",
       "      <td>1.000000</td>\n",
       "    </tr>\n",
       "    <tr>\n",
       "      <th>1</th>\n",
       "      <td>Coloring book moana</td>\n",
       "      <td>3.9</td>\n",
       "      <td>967</td>\n",
       "      <td>14.0</td>\n",
       "      <td>500000</td>\n",
       "      <td>0.0</td>\n",
       "      <td>0</td>\n",
       "      <td>-0.725</td>\n",
       "      <td>0.833333</td>\n",
       "    </tr>\n",
       "    <tr>\n",
       "      <th>2</th>\n",
       "      <td>Coloring book moana</td>\n",
       "      <td>3.9</td>\n",
       "      <td>967</td>\n",
       "      <td>14.0</td>\n",
       "      <td>500000</td>\n",
       "      <td>0.0</td>\n",
       "      <td>0</td>\n",
       "      <td>0.000</td>\n",
       "      <td>0.000000</td>\n",
       "    </tr>\n",
       "    <tr>\n",
       "      <th>3</th>\n",
       "      <td>Coloring book moana</td>\n",
       "      <td>3.9</td>\n",
       "      <td>967</td>\n",
       "      <td>14.0</td>\n",
       "      <td>500000</td>\n",
       "      <td>0.0</td>\n",
       "      <td>0</td>\n",
       "      <td>0.500</td>\n",
       "      <td>0.600000</td>\n",
       "    </tr>\n",
       "    <tr>\n",
       "      <th>4</th>\n",
       "      <td>Coloring book moana</td>\n",
       "      <td>3.9</td>\n",
       "      <td>967</td>\n",
       "      <td>14.0</td>\n",
       "      <td>500000</td>\n",
       "      <td>0.0</td>\n",
       "      <td>0</td>\n",
       "      <td>-0.800</td>\n",
       "      <td>0.900000</td>\n",
       "    </tr>\n",
       "  </tbody>\n",
       "</table>\n",
       "</div>"
      ],
      "text/plain": [
       "                   App  Rating  Reviews  Size  Installs  Price  \\\n",
       "0  Coloring book moana     3.9      967  14.0    500000    0.0   \n",
       "1  Coloring book moana     3.9      967  14.0    500000    0.0   \n",
       "2  Coloring book moana     3.9      967  14.0    500000    0.0   \n",
       "3  Coloring book moana     3.9      967  14.0    500000    0.0   \n",
       "4  Coloring book moana     3.9      967  14.0    500000    0.0   \n",
       "\n",
       "   Content Rating  Sentiment_Polarity  Sentiment_Subjectivity  \n",
       "0               0              -0.250                1.000000  \n",
       "1               0              -0.725                0.833333  \n",
       "2               0               0.000                0.000000  \n",
       "3               0               0.500                0.600000  \n",
       "4               0              -0.800                0.900000  "
      ]
     },
     "execution_count": 31,
     "metadata": {},
     "output_type": "execute_result"
    }
   ],
   "source": [
    "merged_inner.head()"
   ]
  },
  {
   "cell_type": "code",
   "execution_count": 32,
   "metadata": {},
   "outputs": [
    {
     "data": {
      "text/plain": [
       "App                       False\n",
       "Rating                    False\n",
       "Reviews                   False\n",
       "Size                      False\n",
       "Installs                  False\n",
       "Price                     False\n",
       "Content Rating            False\n",
       "Sentiment_Polarity        False\n",
       "Sentiment_Subjectivity    False\n",
       "dtype: bool"
      ]
     },
     "execution_count": 32,
     "metadata": {},
     "output_type": "execute_result"
    }
   ],
   "source": [
    "merged_inner.isnull().any()"
   ]
  },
  {
   "cell_type": "code",
   "execution_count": 33,
   "metadata": {
    "scrolled": true
   },
   "outputs": [
    {
     "data": {
      "text/plain": [
       "(569,)"
      ]
     },
     "execution_count": 33,
     "metadata": {},
     "output_type": "execute_result"
    }
   ],
   "source": [
    "merged_inner['App'].unique().shape"
   ]
  },
  {
   "cell_type": "code",
   "execution_count": 34,
   "metadata": {},
   "outputs": [
    {
     "data": {
      "text/plain": [
       "(865,)"
      ]
     },
     "execution_count": 34,
     "metadata": {},
     "output_type": "execute_result"
    }
   ],
   "source": [
    "unique_apps_review.shape"
   ]
  },
  {
   "cell_type": "markdown",
   "metadata": {},
   "source": [
    "###### merged_inner and unique_apps_review still have a differing amount of apps, which shows that not all of the apps in PS_Reviews were in P_Store and vice versa."
   ]
  },
  {
   "cell_type": "markdown",
   "metadata": {},
   "source": [
    "### Grouping merged_inner by app to have a MEAN Sentiment Polarity of each app"
   ]
  },
  {
   "cell_type": "code",
   "execution_count": 35,
   "metadata": {},
   "outputs": [
    {
     "data": {
      "text/plain": [
       "pandas.core.frame.DataFrame"
      ]
     },
     "execution_count": 35,
     "metadata": {},
     "output_type": "execute_result"
    }
   ],
   "source": [
    "grouped_apps = merged_inner[['App','Sentiment_Polarity']].groupby('App').mean()\n",
    "type(grouped_apps)"
   ]
  },
  {
   "cell_type": "code",
   "execution_count": 36,
   "metadata": {},
   "outputs": [],
   "source": [
    "grouped_apps = grouped_apps.reset_index()"
   ]
  },
  {
   "cell_type": "code",
   "execution_count": 37,
   "metadata": {},
   "outputs": [],
   "source": [
    "PS_grouped = pd.merge(P_Store,grouped_apps,how = 'inner')"
   ]
  },
  {
   "cell_type": "code",
   "execution_count": 38,
   "metadata": {
    "scrolled": false
   },
   "outputs": [
    {
     "data": {
      "text/html": [
       "<div>\n",
       "<style scoped>\n",
       "    .dataframe tbody tr th:only-of-type {\n",
       "        vertical-align: middle;\n",
       "    }\n",
       "\n",
       "    .dataframe tbody tr th {\n",
       "        vertical-align: top;\n",
       "    }\n",
       "\n",
       "    .dataframe thead th {\n",
       "        text-align: right;\n",
       "    }\n",
       "</style>\n",
       "<table border=\"1\" class=\"dataframe\">\n",
       "  <thead>\n",
       "    <tr style=\"text-align: right;\">\n",
       "      <th></th>\n",
       "      <th>App</th>\n",
       "      <th>Rating</th>\n",
       "      <th>Reviews</th>\n",
       "      <th>Size</th>\n",
       "      <th>Installs</th>\n",
       "      <th>Price</th>\n",
       "      <th>Content Rating</th>\n",
       "      <th>Sentiment_Polarity</th>\n",
       "    </tr>\n",
       "  </thead>\n",
       "  <tbody>\n",
       "    <tr>\n",
       "      <th>0</th>\n",
       "      <td>Coloring book moana</td>\n",
       "      <td>3.9</td>\n",
       "      <td>967</td>\n",
       "      <td>14.0</td>\n",
       "      <td>500000</td>\n",
       "      <td>0.0</td>\n",
       "      <td>0</td>\n",
       "      <td>0.152652</td>\n",
       "    </tr>\n",
       "    <tr>\n",
       "      <th>1</th>\n",
       "      <td>Coloring book moana</td>\n",
       "      <td>3.9</td>\n",
       "      <td>974</td>\n",
       "      <td>14.0</td>\n",
       "      <td>500000</td>\n",
       "      <td>0.0</td>\n",
       "      <td>0</td>\n",
       "      <td>0.152652</td>\n",
       "    </tr>\n",
       "    <tr>\n",
       "      <th>2</th>\n",
       "      <td>Garden Coloring Book</td>\n",
       "      <td>4.4</td>\n",
       "      <td>13791</td>\n",
       "      <td>33.0</td>\n",
       "      <td>1000000</td>\n",
       "      <td>0.0</td>\n",
       "      <td>0</td>\n",
       "      <td>0.268483</td>\n",
       "    </tr>\n",
       "    <tr>\n",
       "      <th>3</th>\n",
       "      <td>FlipaClip - Cartoon animation</td>\n",
       "      <td>4.3</td>\n",
       "      <td>194216</td>\n",
       "      <td>39.0</td>\n",
       "      <td>5000000</td>\n",
       "      <td>0.0</td>\n",
       "      <td>0</td>\n",
       "      <td>0.412649</td>\n",
       "    </tr>\n",
       "    <tr>\n",
       "      <th>4</th>\n",
       "      <td>Boys Photo Editor - Six Pack &amp; Men's Suit</td>\n",
       "      <td>4.1</td>\n",
       "      <td>654</td>\n",
       "      <td>12.0</td>\n",
       "      <td>100000</td>\n",
       "      <td>0.0</td>\n",
       "      <td>0</td>\n",
       "      <td>0.283509</td>\n",
       "    </tr>\n",
       "  </tbody>\n",
       "</table>\n",
       "</div>"
      ],
      "text/plain": [
       "                                         App  Rating  Reviews  Size  Installs  \\\n",
       "0                        Coloring book moana     3.9      967  14.0    500000   \n",
       "1                        Coloring book moana     3.9      974  14.0    500000   \n",
       "2                       Garden Coloring Book     4.4    13791  33.0   1000000   \n",
       "3              FlipaClip - Cartoon animation     4.3   194216  39.0   5000000   \n",
       "4  Boys Photo Editor - Six Pack & Men's Suit     4.1      654  12.0    100000   \n",
       "\n",
       "   Price  Content Rating  Sentiment_Polarity  \n",
       "0    0.0               0            0.152652  \n",
       "1    0.0               0            0.152652  \n",
       "2    0.0               0            0.268483  \n",
       "3    0.0               0            0.412649  \n",
       "4    0.0               0            0.283509  "
      ]
     },
     "execution_count": 38,
     "metadata": {},
     "output_type": "execute_result"
    }
   ],
   "source": [
    "PS_grouped.head()"
   ]
  },
  {
   "cell_type": "markdown",
   "metadata": {},
   "source": [
    "### Grouping merged_inner by app to have a MEDIAN Sentiment Polarity of each app and combined with PS_grouped"
   ]
  },
  {
   "cell_type": "code",
   "execution_count": 39,
   "metadata": {},
   "outputs": [
    {
     "data": {
      "text/plain": [
       "pandas.core.frame.DataFrame"
      ]
     },
     "execution_count": 39,
     "metadata": {},
     "output_type": "execute_result"
    }
   ],
   "source": [
    "grouped_apps_medSP = merged_inner[['App','Sentiment_Polarity']].groupby('App').median()\n",
    "type(grouped_apps_medSP)"
   ]
  },
  {
   "cell_type": "code",
   "execution_count": 40,
   "metadata": {},
   "outputs": [],
   "source": [
    "grouped_apps_medSP = grouped_apps_medSP.reset_index()\n",
    "grouped_apps_medSP['Sentiment_Polarity_Median'] = grouped_apps_medSP['Sentiment_Polarity']\n",
    "del grouped_apps_medSP['Sentiment_Polarity']"
   ]
  },
  {
   "cell_type": "code",
   "execution_count": 41,
   "metadata": {},
   "outputs": [],
   "source": [
    "PS_grouped = pd.merge(PS_grouped,grouped_apps_medSP,how = 'inner')"
   ]
  },
  {
   "cell_type": "code",
   "execution_count": 42,
   "metadata": {},
   "outputs": [
    {
     "data": {
      "text/html": [
       "<div>\n",
       "<style scoped>\n",
       "    .dataframe tbody tr th:only-of-type {\n",
       "        vertical-align: middle;\n",
       "    }\n",
       "\n",
       "    .dataframe tbody tr th {\n",
       "        vertical-align: top;\n",
       "    }\n",
       "\n",
       "    .dataframe thead th {\n",
       "        text-align: right;\n",
       "    }\n",
       "</style>\n",
       "<table border=\"1\" class=\"dataframe\">\n",
       "  <thead>\n",
       "    <tr style=\"text-align: right;\">\n",
       "      <th></th>\n",
       "      <th>App</th>\n",
       "      <th>Rating</th>\n",
       "      <th>Reviews</th>\n",
       "      <th>Size</th>\n",
       "      <th>Installs</th>\n",
       "      <th>Price</th>\n",
       "      <th>Content Rating</th>\n",
       "      <th>Sentiment_Polarity</th>\n",
       "      <th>Sentiment_Polarity_Median</th>\n",
       "    </tr>\n",
       "  </thead>\n",
       "  <tbody>\n",
       "    <tr>\n",
       "      <th>0</th>\n",
       "      <td>Coloring book moana</td>\n",
       "      <td>3.9</td>\n",
       "      <td>967</td>\n",
       "      <td>14.0</td>\n",
       "      <td>500000</td>\n",
       "      <td>0.0</td>\n",
       "      <td>0</td>\n",
       "      <td>0.152652</td>\n",
       "      <td>0.500000</td>\n",
       "    </tr>\n",
       "    <tr>\n",
       "      <th>1</th>\n",
       "      <td>Coloring book moana</td>\n",
       "      <td>3.9</td>\n",
       "      <td>974</td>\n",
       "      <td>14.0</td>\n",
       "      <td>500000</td>\n",
       "      <td>0.0</td>\n",
       "      <td>0</td>\n",
       "      <td>0.152652</td>\n",
       "      <td>0.500000</td>\n",
       "    </tr>\n",
       "    <tr>\n",
       "      <th>2</th>\n",
       "      <td>Garden Coloring Book</td>\n",
       "      <td>4.4</td>\n",
       "      <td>13791</td>\n",
       "      <td>33.0</td>\n",
       "      <td>1000000</td>\n",
       "      <td>0.0</td>\n",
       "      <td>0</td>\n",
       "      <td>0.268483</td>\n",
       "      <td>0.300000</td>\n",
       "    </tr>\n",
       "    <tr>\n",
       "      <th>3</th>\n",
       "      <td>FlipaClip - Cartoon animation</td>\n",
       "      <td>4.3</td>\n",
       "      <td>194216</td>\n",
       "      <td>39.0</td>\n",
       "      <td>5000000</td>\n",
       "      <td>0.0</td>\n",
       "      <td>0</td>\n",
       "      <td>0.412649</td>\n",
       "      <td>0.392857</td>\n",
       "    </tr>\n",
       "    <tr>\n",
       "      <th>4</th>\n",
       "      <td>Boys Photo Editor - Six Pack &amp; Men's Suit</td>\n",
       "      <td>4.1</td>\n",
       "      <td>654</td>\n",
       "      <td>12.0</td>\n",
       "      <td>100000</td>\n",
       "      <td>0.0</td>\n",
       "      <td>0</td>\n",
       "      <td>0.283509</td>\n",
       "      <td>0.341667</td>\n",
       "    </tr>\n",
       "  </tbody>\n",
       "</table>\n",
       "</div>"
      ],
      "text/plain": [
       "                                         App  Rating  Reviews  Size  Installs  \\\n",
       "0                        Coloring book moana     3.9      967  14.0    500000   \n",
       "1                        Coloring book moana     3.9      974  14.0    500000   \n",
       "2                       Garden Coloring Book     4.4    13791  33.0   1000000   \n",
       "3              FlipaClip - Cartoon animation     4.3   194216  39.0   5000000   \n",
       "4  Boys Photo Editor - Six Pack & Men's Suit     4.1      654  12.0    100000   \n",
       "\n",
       "   Price  Content Rating  Sentiment_Polarity  Sentiment_Polarity_Median  \n",
       "0    0.0               0            0.152652                   0.500000  \n",
       "1    0.0               0            0.152652                   0.500000  \n",
       "2    0.0               0            0.268483                   0.300000  \n",
       "3    0.0               0            0.412649                   0.392857  \n",
       "4    0.0               0            0.283509                   0.341667  "
      ]
     },
     "execution_count": 42,
     "metadata": {},
     "output_type": "execute_result"
    }
   ],
   "source": [
    "PS_grouped.head()"
   ]
  },
  {
   "cell_type": "markdown",
   "metadata": {},
   "source": [
    "### Do the same for Sentiment Subjectivity"
   ]
  },
  {
   "cell_type": "code",
   "execution_count": 43,
   "metadata": {},
   "outputs": [],
   "source": [
    "grouped_apps_meanSS = merged_inner[['App','Sentiment_Subjectivity']].groupby('App').mean()\n",
    "grouped_apps_meanSS = grouped_apps_meanSS.reset_index()\n",
    "PS_grouped = pd.merge(PS_grouped,grouped_apps_meanSS,how = 'inner')"
   ]
  },
  {
   "cell_type": "code",
   "execution_count": 44,
   "metadata": {},
   "outputs": [
    {
     "data": {
      "text/html": [
       "<div>\n",
       "<style scoped>\n",
       "    .dataframe tbody tr th:only-of-type {\n",
       "        vertical-align: middle;\n",
       "    }\n",
       "\n",
       "    .dataframe tbody tr th {\n",
       "        vertical-align: top;\n",
       "    }\n",
       "\n",
       "    .dataframe thead th {\n",
       "        text-align: right;\n",
       "    }\n",
       "</style>\n",
       "<table border=\"1\" class=\"dataframe\">\n",
       "  <thead>\n",
       "    <tr style=\"text-align: right;\">\n",
       "      <th></th>\n",
       "      <th>App</th>\n",
       "      <th>Rating</th>\n",
       "      <th>Reviews</th>\n",
       "      <th>Size</th>\n",
       "      <th>Installs</th>\n",
       "      <th>Price</th>\n",
       "      <th>Content Rating</th>\n",
       "      <th>Sentiment_Polarity</th>\n",
       "      <th>Sentiment_Polarity_Median</th>\n",
       "      <th>Sentiment_Subjectivity</th>\n",
       "    </tr>\n",
       "  </thead>\n",
       "  <tbody>\n",
       "    <tr>\n",
       "      <th>0</th>\n",
       "      <td>Coloring book moana</td>\n",
       "      <td>3.9</td>\n",
       "      <td>967</td>\n",
       "      <td>14.0</td>\n",
       "      <td>500000</td>\n",
       "      <td>0.0</td>\n",
       "      <td>0</td>\n",
       "      <td>0.152652</td>\n",
       "      <td>0.500000</td>\n",
       "      <td>0.641540</td>\n",
       "    </tr>\n",
       "    <tr>\n",
       "      <th>1</th>\n",
       "      <td>Coloring book moana</td>\n",
       "      <td>3.9</td>\n",
       "      <td>974</td>\n",
       "      <td>14.0</td>\n",
       "      <td>500000</td>\n",
       "      <td>0.0</td>\n",
       "      <td>0</td>\n",
       "      <td>0.152652</td>\n",
       "      <td>0.500000</td>\n",
       "      <td>0.641540</td>\n",
       "    </tr>\n",
       "    <tr>\n",
       "      <th>2</th>\n",
       "      <td>Garden Coloring Book</td>\n",
       "      <td>4.4</td>\n",
       "      <td>13791</td>\n",
       "      <td>33.0</td>\n",
       "      <td>1000000</td>\n",
       "      <td>0.0</td>\n",
       "      <td>0</td>\n",
       "      <td>0.268483</td>\n",
       "      <td>0.300000</td>\n",
       "      <td>0.523447</td>\n",
       "    </tr>\n",
       "    <tr>\n",
       "      <th>3</th>\n",
       "      <td>FlipaClip - Cartoon animation</td>\n",
       "      <td>4.3</td>\n",
       "      <td>194216</td>\n",
       "      <td>39.0</td>\n",
       "      <td>5000000</td>\n",
       "      <td>0.0</td>\n",
       "      <td>0</td>\n",
       "      <td>0.412649</td>\n",
       "      <td>0.392857</td>\n",
       "      <td>0.679226</td>\n",
       "    </tr>\n",
       "    <tr>\n",
       "      <th>4</th>\n",
       "      <td>Boys Photo Editor - Six Pack &amp; Men's Suit</td>\n",
       "      <td>4.1</td>\n",
       "      <td>654</td>\n",
       "      <td>12.0</td>\n",
       "      <td>100000</td>\n",
       "      <td>0.0</td>\n",
       "      <td>0</td>\n",
       "      <td>0.283509</td>\n",
       "      <td>0.341667</td>\n",
       "      <td>0.479298</td>\n",
       "    </tr>\n",
       "  </tbody>\n",
       "</table>\n",
       "</div>"
      ],
      "text/plain": [
       "                                         App  Rating  Reviews  Size  Installs  \\\n",
       "0                        Coloring book moana     3.9      967  14.0    500000   \n",
       "1                        Coloring book moana     3.9      974  14.0    500000   \n",
       "2                       Garden Coloring Book     4.4    13791  33.0   1000000   \n",
       "3              FlipaClip - Cartoon animation     4.3   194216  39.0   5000000   \n",
       "4  Boys Photo Editor - Six Pack & Men's Suit     4.1      654  12.0    100000   \n",
       "\n",
       "   Price  Content Rating  Sentiment_Polarity  Sentiment_Polarity_Median  \\\n",
       "0    0.0               0            0.152652                   0.500000   \n",
       "1    0.0               0            0.152652                   0.500000   \n",
       "2    0.0               0            0.268483                   0.300000   \n",
       "3    0.0               0            0.412649                   0.392857   \n",
       "4    0.0               0            0.283509                   0.341667   \n",
       "\n",
       "   Sentiment_Subjectivity  \n",
       "0                0.641540  \n",
       "1                0.641540  \n",
       "2                0.523447  \n",
       "3                0.679226  \n",
       "4                0.479298  "
      ]
     },
     "execution_count": 44,
     "metadata": {},
     "output_type": "execute_result"
    }
   ],
   "source": [
    "PS_grouped.head()"
   ]
  },
  {
   "cell_type": "code",
   "execution_count": 45,
   "metadata": {},
   "outputs": [],
   "source": [
    "grouped_apps_medSS = merged_inner[['App','Sentiment_Subjectivity']].groupby('App').median()\n",
    "grouped_apps_medSS = grouped_apps_medSS.reset_index()\n",
    "grouped_apps_medSS['Sentiment_Subjectivity_Median'] = grouped_apps_medSS['Sentiment_Subjectivity']\n",
    "del grouped_apps_medSS['Sentiment_Subjectivity']\n",
    "PS_grouped = pd.merge(PS_grouped,grouped_apps_medSS,how = 'inner')"
   ]
  },
  {
   "cell_type": "code",
   "execution_count": 46,
   "metadata": {},
   "outputs": [
    {
     "data": {
      "text/html": [
       "<div>\n",
       "<style scoped>\n",
       "    .dataframe tbody tr th:only-of-type {\n",
       "        vertical-align: middle;\n",
       "    }\n",
       "\n",
       "    .dataframe tbody tr th {\n",
       "        vertical-align: top;\n",
       "    }\n",
       "\n",
       "    .dataframe thead th {\n",
       "        text-align: right;\n",
       "    }\n",
       "</style>\n",
       "<table border=\"1\" class=\"dataframe\">\n",
       "  <thead>\n",
       "    <tr style=\"text-align: right;\">\n",
       "      <th></th>\n",
       "      <th>App</th>\n",
       "      <th>Rating</th>\n",
       "      <th>Reviews</th>\n",
       "      <th>Size</th>\n",
       "      <th>Installs</th>\n",
       "      <th>Price</th>\n",
       "      <th>Content Rating</th>\n",
       "      <th>Sentiment_Polarity</th>\n",
       "      <th>Sentiment_Polarity_Median</th>\n",
       "      <th>Sentiment_Subjectivity</th>\n",
       "      <th>Sentiment_Subjectivity_Median</th>\n",
       "    </tr>\n",
       "  </thead>\n",
       "  <tbody>\n",
       "    <tr>\n",
       "      <th>0</th>\n",
       "      <td>Coloring book moana</td>\n",
       "      <td>3.9</td>\n",
       "      <td>967</td>\n",
       "      <td>14.0</td>\n",
       "      <td>500000</td>\n",
       "      <td>0.0</td>\n",
       "      <td>0</td>\n",
       "      <td>0.152652</td>\n",
       "      <td>0.500000</td>\n",
       "      <td>0.641540</td>\n",
       "      <td>0.600000</td>\n",
       "    </tr>\n",
       "    <tr>\n",
       "      <th>1</th>\n",
       "      <td>Coloring book moana</td>\n",
       "      <td>3.9</td>\n",
       "      <td>974</td>\n",
       "      <td>14.0</td>\n",
       "      <td>500000</td>\n",
       "      <td>0.0</td>\n",
       "      <td>0</td>\n",
       "      <td>0.152652</td>\n",
       "      <td>0.500000</td>\n",
       "      <td>0.641540</td>\n",
       "      <td>0.600000</td>\n",
       "    </tr>\n",
       "    <tr>\n",
       "      <th>2</th>\n",
       "      <td>Garden Coloring Book</td>\n",
       "      <td>4.4</td>\n",
       "      <td>13791</td>\n",
       "      <td>33.0</td>\n",
       "      <td>1000000</td>\n",
       "      <td>0.0</td>\n",
       "      <td>0</td>\n",
       "      <td>0.268483</td>\n",
       "      <td>0.300000</td>\n",
       "      <td>0.523447</td>\n",
       "      <td>0.598413</td>\n",
       "    </tr>\n",
       "    <tr>\n",
       "      <th>3</th>\n",
       "      <td>FlipaClip - Cartoon animation</td>\n",
       "      <td>4.3</td>\n",
       "      <td>194216</td>\n",
       "      <td>39.0</td>\n",
       "      <td>5000000</td>\n",
       "      <td>0.0</td>\n",
       "      <td>0</td>\n",
       "      <td>0.412649</td>\n",
       "      <td>0.392857</td>\n",
       "      <td>0.679226</td>\n",
       "      <td>0.702381</td>\n",
       "    </tr>\n",
       "    <tr>\n",
       "      <th>4</th>\n",
       "      <td>Boys Photo Editor - Six Pack &amp; Men's Suit</td>\n",
       "      <td>4.1</td>\n",
       "      <td>654</td>\n",
       "      <td>12.0</td>\n",
       "      <td>100000</td>\n",
       "      <td>0.0</td>\n",
       "      <td>0</td>\n",
       "      <td>0.283509</td>\n",
       "      <td>0.341667</td>\n",
       "      <td>0.479298</td>\n",
       "      <td>0.600000</td>\n",
       "    </tr>\n",
       "  </tbody>\n",
       "</table>\n",
       "</div>"
      ],
      "text/plain": [
       "                                         App  Rating  Reviews  Size  Installs  \\\n",
       "0                        Coloring book moana     3.9      967  14.0    500000   \n",
       "1                        Coloring book moana     3.9      974  14.0    500000   \n",
       "2                       Garden Coloring Book     4.4    13791  33.0   1000000   \n",
       "3              FlipaClip - Cartoon animation     4.3   194216  39.0   5000000   \n",
       "4  Boys Photo Editor - Six Pack & Men's Suit     4.1      654  12.0    100000   \n",
       "\n",
       "   Price  Content Rating  Sentiment_Polarity  Sentiment_Polarity_Median  \\\n",
       "0    0.0               0            0.152652                   0.500000   \n",
       "1    0.0               0            0.152652                   0.500000   \n",
       "2    0.0               0            0.268483                   0.300000   \n",
       "3    0.0               0            0.412649                   0.392857   \n",
       "4    0.0               0            0.283509                   0.341667   \n",
       "\n",
       "   Sentiment_Subjectivity  Sentiment_Subjectivity_Median  \n",
       "0                0.641540                       0.600000  \n",
       "1                0.641540                       0.600000  \n",
       "2                0.523447                       0.598413  \n",
       "3                0.679226                       0.702381  \n",
       "4                0.479298                       0.600000  "
      ]
     },
     "execution_count": 46,
     "metadata": {},
     "output_type": "execute_result"
    }
   ],
   "source": [
    "PS_grouped.head()"
   ]
  },
  {
   "cell_type": "code",
   "execution_count": 47,
   "metadata": {},
   "outputs": [
    {
     "data": {
      "text/plain": [
       "46"
      ]
     },
     "execution_count": 47,
     "metadata": {},
     "output_type": "execute_result"
    }
   ],
   "source": [
    "#Check the lowest amount of reviews in an app to see if a sentiment analysis will produce accurate results\n",
    "PS_grouped.Reviews.min()"
   ]
  },
  {
   "cell_type": "markdown",
   "metadata": {},
   "source": [
    "###### Since lowest # of reviews is 46, we should make the minimum amount of rows to be 100 for best outcomes"
   ]
  },
  {
   "cell_type": "code",
   "execution_count": 48,
   "metadata": {},
   "outputs": [
    {
     "data": {
      "text/plain": [
       "114"
      ]
     },
     "execution_count": 48,
     "metadata": {},
     "output_type": "execute_result"
    }
   ],
   "source": [
    "before_rows = PS_grouped.shape[0]\n",
    "PS_grouped = PS_grouped[PS_grouped.Reviews > 99]\n",
    "PS_grouped.Reviews.min()"
   ]
  },
  {
   "cell_type": "code",
   "execution_count": 49,
   "metadata": {},
   "outputs": [
    {
     "data": {
      "text/plain": [
       "1"
      ]
     },
     "execution_count": 49,
     "metadata": {},
     "output_type": "execute_result"
    }
   ],
   "source": [
    "after_rows = PS_grouped.shape[0]\n",
    "before_rows - after_rows"
   ]
  },
  {
   "cell_type": "markdown",
   "metadata": {},
   "source": [
    "## Determine the Features to use for Regression Analysis (Question 1)"
   ]
  },
  {
   "cell_type": "code",
   "execution_count": 50,
   "metadata": {},
   "outputs": [
    {
     "data": {
      "text/plain": [
       "114"
      ]
     },
     "execution_count": 50,
     "metadata": {},
     "output_type": "execute_result"
    }
   ],
   "source": [
    "PS_grouped['Reviews'].min()"
   ]
  },
  {
   "cell_type": "code",
   "execution_count": 51,
   "metadata": {},
   "outputs": [
    {
     "data": {
      "text/plain": [
       "count    8.120000e+02\n",
       "mean     1.192853e+06\n",
       "std      4.479416e+06\n",
       "min      1.140000e+02\n",
       "25%      7.182000e+03\n",
       "50%      4.151150e+04\n",
       "75%      2.031532e+05\n",
       "max      4.489389e+07\n",
       "Name: Reviews, dtype: float64"
      ]
     },
     "execution_count": 51,
     "metadata": {},
     "output_type": "execute_result"
    }
   ],
   "source": [
    "PS_grouped['Reviews'].describe()"
   ]
  },
  {
   "cell_type": "code",
   "execution_count": 52,
   "metadata": {},
   "outputs": [
    {
     "data": {
      "image/png": "[encoded data removed]",
      "text/plain": [
       "<Figure size 432x288 with 1 Axes>"
      ]
     },
     "metadata": {
      "needs_background": "light"
     },
     "output_type": "display_data"
    }
   ],
   "source": [
    "plt.scatter(PS_grouped['Reviews'].values, PS_grouped['Rating'].values, s = 5)\n",
    "plt.xlabel('Reviews')\n",
    "plt.ylabel('Ratings')\n",
    "plt.title('Reviews vs Ratings Correlation')\n",
    "plt.axis([100,100000,0,5])\n",
    "plt.show()"
   ]
  },
  {
   "cell_type": "code",
   "execution_count": 53,
   "metadata": {},
   "outputs": [
    {
     "data": {
      "text/plain": [
       "array([[1.        , 0.16894921],\n",
       "       [0.16894921, 1.        ]])"
      ]
     },
     "execution_count": 53,
     "metadata": {},
     "output_type": "execute_result"
    }
   ],
   "source": [
    "np.corrcoef(PS_grouped['Reviews'].values, PS_grouped['Rating'].values)"
   ]
  },
  {
   "cell_type": "markdown",
   "metadata": {},
   "source": [
    "These values do not correlate so Reviews will not be part of the features"
   ]
  },
  {
   "cell_type": "code",
   "execution_count": 54,
   "metadata": {},
   "outputs": [
    {
     "data": {
      "text/plain": [
       "count       812.000000\n",
       "mean       4380.833621\n",
       "std       52740.430911\n",
       "min           1.200000\n",
       "25%           9.375000\n",
       "50%          20.000000\n",
       "75%          45.250000\n",
       "max      853000.000000\n",
       "Name: Size, dtype: float64"
      ]
     },
     "execution_count": 54,
     "metadata": {},
     "output_type": "execute_result"
    }
   ],
   "source": [
    "PS_grouped['Size'].describe()"
   ]
  },
  {
   "cell_type": "code",
   "execution_count": 55,
   "metadata": {},
   "outputs": [
    {
     "data": {
      "image/png": "[encoded data removed]",
      "text/plain": [
       "<Figure size 432x288 with 1 Axes>"
      ]
     },
     "metadata": {
      "needs_background": "light"
     },
     "output_type": "display_data"
    }
   ],
   "source": [
    "plt.scatter(PS_grouped['Size'].values, PS_grouped['Rating'].values, s = 5)\n",
    "plt.xlabel('Size')\n",
    "plt.ylabel('Ratings')\n",
    "plt.title('Size vs Ratings Correlation')\n",
    "plt.axis([0,100,0,5])\n",
    "plt.show()"
   ]
  },
  {
   "cell_type": "code",
   "execution_count": 56,
   "metadata": {},
   "outputs": [
    {
     "data": {
      "text/plain": [
       "array([[ 1.        , -0.08196689],\n",
       "       [-0.08196689,  1.        ]])"
      ]
     },
     "execution_count": 56,
     "metadata": {},
     "output_type": "execute_result"
    }
   ],
   "source": [
    "np.corrcoef(PS_grouped['Size'].values, PS_grouped['Rating'].values)"
   ]
  },
  {
   "cell_type": "markdown",
   "metadata": {},
   "source": [
    "These do not correlate either. On to the next potential feature"
   ]
  },
  {
   "cell_type": "code",
   "execution_count": 57,
   "metadata": {},
   "outputs": [
    {
     "data": {
      "text/plain": [
       "count    8.120000e+02\n",
       "mean     2.590269e+07\n",
       "std      9.203558e+07\n",
       "min      1.000000e+03\n",
       "25%      5.000000e+05\n",
       "50%      1.000000e+06\n",
       "75%      1.000000e+07\n",
       "max      1.000000e+09\n",
       "Name: Installs, dtype: float64"
      ]
     },
     "execution_count": 57,
     "metadata": {},
     "output_type": "execute_result"
    }
   ],
   "source": [
    "PS_grouped['Installs'].describe()"
   ]
  },
  {
   "cell_type": "code",
   "execution_count": 58,
   "metadata": {},
   "outputs": [
    {
     "data": {
      "image/png": "[encoded data removed]",
      "text/plain": [
       "<Figure size 432x288 with 1 Axes>"
      ]
     },
     "metadata": {
      "needs_background": "light"
     },
     "output_type": "display_data"
    }
   ],
   "source": [
    "plt.scatter(PS_grouped['Installs'].values, PS_grouped['Rating'].values, s = 5)\n",
    "plt.xlabel('Installs')\n",
    "plt.ylabel('Ratings')\n",
    "plt.title('Installs vs Ratings Correlation')\n",
    "plt.axis([0,100000000,0,5])\n",
    "plt.show()"
   ]
  },
  {
   "cell_type": "code",
   "execution_count": 59,
   "metadata": {},
   "outputs": [
    {
     "data": {
      "text/plain": [
       "array([[ 1.        , -0.08196689],\n",
       "       [-0.08196689,  1.        ]])"
      ]
     },
     "execution_count": 59,
     "metadata": {},
     "output_type": "execute_result"
    }
   ],
   "source": [
    "np.corrcoef(PS_grouped['Size'].values, PS_grouped['Rating'].values)"
   ]
  },
  {
   "cell_type": "markdown",
   "metadata": {},
   "source": [
    "Installs do not correlate with ratings either."
   ]
  },
  {
   "cell_type": "code",
   "execution_count": 60,
   "metadata": {},
   "outputs": [
    {
     "data": {
      "text/plain": [
       "count    812.000000\n",
       "mean       0.189168\n",
       "std        0.158706\n",
       "min       -0.383333\n",
       "25%        0.069157\n",
       "50%        0.185979\n",
       "75%        0.299903\n",
       "max        1.000000\n",
       "Name: Sentiment_Polarity, dtype: float64"
      ]
     },
     "execution_count": 60,
     "metadata": {},
     "output_type": "execute_result"
    }
   ],
   "source": [
    "PS_grouped['Sentiment_Polarity'].describe()"
   ]
  },
  {
   "cell_type": "code",
   "execution_count": 61,
   "metadata": {},
   "outputs": [
    {
     "data": {
      "image/png": "[encoded data removed]",
      "text/plain": [
       "<Figure size 432x288 with 1 Axes>"
      ]
     },
     "metadata": {
      "needs_background": "light"
     },
     "output_type": "display_data"
    }
   ],
   "source": [
    "plt.scatter(PS_grouped['Sentiment_Polarity'].values, PS_grouped['Rating'].values, s = 5)\n",
    "plt.xlabel('Sentiment Polarity (Mean)')\n",
    "plt.ylabel('Ratings')\n",
    "plt.title('Sentiment Polarity (Mean) vs Ratings Correlation')\n",
    "plt.axis([-1,1,0,5])\n",
    "plt.show()"
   ]
  },
  {
   "cell_type": "code",
   "execution_count": 62,
   "metadata": {},
   "outputs": [
    {
     "data": {
      "text/plain": [
       "array([[1.        , 0.20745499],\n",
       "       [0.20745499, 1.        ]])"
      ]
     },
     "execution_count": 62,
     "metadata": {},
     "output_type": "execute_result"
    }
   ],
   "source": [
    "np.corrcoef(PS_grouped['Sentiment_Polarity'].values, PS_grouped['Rating'].values)"
   ]
  },
  {
   "cell_type": "code",
   "execution_count": 63,
   "metadata": {},
   "outputs": [
    {
     "data": {
      "text/plain": [
       "count    812.000000\n",
       "mean       0.190132\n",
       "std        0.177185\n",
       "min       -0.300000\n",
       "25%        0.040511\n",
       "50%        0.166667\n",
       "75%        0.315000\n",
       "max        1.000000\n",
       "Name: Sentiment_Polarity_Median, dtype: float64"
      ]
     },
     "execution_count": 63,
     "metadata": {},
     "output_type": "execute_result"
    }
   ],
   "source": [
    "PS_grouped['Sentiment_Polarity_Median'].describe()"
   ]
  },
  {
   "cell_type": "code",
   "execution_count": 64,
   "metadata": {},
   "outputs": [
    {
     "data": {
      "image/png": "[encoded data removed]",
      "text/plain": [
       "<Figure size 432x288 with 1 Axes>"
      ]
     },
     "metadata": {
      "needs_background": "light"
     },
     "output_type": "display_data"
    }
   ],
   "source": [
    "plt.scatter(PS_grouped['Sentiment_Polarity_Median'].values, PS_grouped['Rating'].values, s = 5)\n",
    "plt.xlabel('Sentiment Polarity (Median)')\n",
    "plt.ylabel('Ratings')\n",
    "plt.title('Sentiment Polarity vs Ratings Correlation')\n",
    "plt.axis([-1,1,0,5])\n",
    "plt.show()"
   ]
  },
  {
   "cell_type": "code",
   "execution_count": 65,
   "metadata": {},
   "outputs": [
    {
     "data": {
      "text/plain": [
       "array([[1.        , 0.18862542],\n",
       "       [0.18862542, 1.        ]])"
      ]
     },
     "execution_count": 65,
     "metadata": {},
     "output_type": "execute_result"
    }
   ],
   "source": [
    "np.corrcoef(PS_grouped['Sentiment_Polarity_Median'].values, PS_grouped['Rating'].values)"
   ]
  },
  {
   "cell_type": "markdown",
   "metadata": {},
   "source": [
    "### Regression Analysis using the features to predict Rating"
   ]
  },
  {
   "cell_type": "markdown",
   "metadata": {},
   "source": [
    "##### Extracting Features and Target Values into Separate DataFrames"
   ]
  },
  {
   "cell_type": "code",
   "execution_count": 66,
   "metadata": {},
   "outputs": [
    {
     "data": {
      "text/plain": [
       "Index(['App', 'Rating', 'Reviews', 'Size', 'Installs', 'Price',\n",
       "       'Content Rating', 'Sentiment_Polarity', 'Sentiment_Polarity_Median',\n",
       "       'Sentiment_Subjectivity', 'Sentiment_Subjectivity_Median'],\n",
       "      dtype='object')"
      ]
     },
     "execution_count": 66,
     "metadata": {},
     "output_type": "execute_result"
    }
   ],
   "source": [
    "PS_grouped.columns"
   ]
  },
  {
   "cell_type": "code",
   "execution_count": 67,
   "metadata": {},
   "outputs": [],
   "source": [
    "features = ['Sentiment_Polarity','Sentiment_Polarity_Median','Sentiment_Polarity','Sentiment_Polarity_Median']"
   ]
  },
  {
   "cell_type": "code",
   "execution_count": 68,
   "metadata": {},
   "outputs": [],
   "source": [
    "target = ['Rating']"
   ]
  },
  {
   "cell_type": "code",
   "execution_count": 69,
   "metadata": {},
   "outputs": [],
   "source": [
    "X = PS_grouped[features]\n",
    "y = PS_grouped[target]"
   ]
  },
  {
   "cell_type": "code",
   "execution_count": 70,
   "metadata": {},
   "outputs": [
    {
     "data": {
      "text/plain": [
       "Sentiment_Polarity           0.152652\n",
       "Sentiment_Polarity_Median    0.500000\n",
       "Sentiment_Polarity           0.152652\n",
       "Sentiment_Polarity_Median    0.500000\n",
       "Name: 0, dtype: float64"
      ]
     },
     "execution_count": 70,
     "metadata": {},
     "output_type": "execute_result"
    }
   ],
   "source": [
    "X.iloc[0]"
   ]
  },
  {
   "cell_type": "code",
   "execution_count": 71,
   "metadata": {},
   "outputs": [],
   "source": [
    "#y"
   ]
  },
  {
   "cell_type": "code",
   "execution_count": 72,
   "metadata": {},
   "outputs": [],
   "source": [
    "X_train, X_test, y_train, y_test = train_test_split(X, y, test_size=0.33, random_state=324)"
   ]
  },
  {
   "cell_type": "code",
   "execution_count": 73,
   "metadata": {},
   "outputs": [
    {
     "data": {
      "text/plain": [
       "LinearRegression(copy_X=True, fit_intercept=True, n_jobs=None,\n",
       "         normalize=False)"
      ]
     },
     "execution_count": 73,
     "metadata": {},
     "output_type": "execute_result"
    }
   ],
   "source": [
    "regressor = LinearRegression()\n",
    "regressor.fit(X_train,y_train)"
   ]
  },
  {
   "cell_type": "code",
   "execution_count": 74,
   "metadata": {},
   "outputs": [
    {
     "data": {
      "text/plain": [
       "array([[4.23253394],\n",
       "       [4.30533436],\n",
       "       [4.26644197],\n",
       "       [4.11754201],\n",
       "       [4.34137934],\n",
       "       [4.28885934],\n",
       "       [4.31621452],\n",
       "       [4.2981608 ],\n",
       "       [4.36317806],\n",
       "       [4.20693774],\n",
       "       [4.26704566],\n",
       "       [4.29604506],\n",
       "       [4.27655864],\n",
       "       [4.25941941],\n",
       "       [4.33450542],\n",
       "       [4.25655404],\n",
       "       [4.18735358],\n",
       "       [4.14541431],\n",
       "       [4.28627818],\n",
       "       [4.1837799 ],\n",
       "       [4.25254106],\n",
       "       [4.19245925],\n",
       "       [4.34223427],\n",
       "       [4.32001784],\n",
       "       [4.24819181],\n",
       "       [4.11891375],\n",
       "       [4.28004679],\n",
       "       [4.26857252],\n",
       "       [4.19941011],\n",
       "       [4.27442011],\n",
       "       [4.34610564],\n",
       "       [4.29622637],\n",
       "       [4.19200087],\n",
       "       [4.27125388],\n",
       "       [4.31621452],\n",
       "       [4.2178955 ],\n",
       "       [4.20737289],\n",
       "       [4.25254106],\n",
       "       [4.3922386 ],\n",
       "       [4.27950029],\n",
       "       [4.29888944],\n",
       "       [4.40827165],\n",
       "       [4.37633751],\n",
       "       [4.13471588],\n",
       "       [4.25600902],\n",
       "       [4.33572823],\n",
       "       [4.16957898],\n",
       "       [4.22055085],\n",
       "       [4.19801551],\n",
       "       [4.31222523],\n",
       "       [4.36810824],\n",
       "       [4.25851519],\n",
       "       [4.28853262],\n",
       "       [4.16288708],\n",
       "       [4.33938575],\n",
       "       [4.31048335],\n",
       "       [4.2449637 ],\n",
       "       [4.28766571],\n",
       "       [4.31621452],\n",
       "       [4.20229811],\n",
       "       [4.52728324],\n",
       "       [4.23497354],\n",
       "       [4.11987936],\n",
       "       [4.26902766],\n",
       "       [4.30538996],\n",
       "       [4.20693774],\n",
       "       [4.32301194],\n",
       "       [4.3259947 ],\n",
       "       [4.35389198],\n",
       "       [4.27239429],\n",
       "       [4.1925367 ],\n",
       "       [4.19122025],\n",
       "       [4.27251782],\n",
       "       [4.33704736],\n",
       "       [4.28900145],\n",
       "       [4.38989229],\n",
       "       [4.31683424],\n",
       "       [4.26360569],\n",
       "       [4.2947297 ],\n",
       "       [4.18219911],\n",
       "       [4.24104225],\n",
       "       [4.20165921],\n",
       "       [4.32368441],\n",
       "       [4.20979844],\n",
       "       [4.10094814],\n",
       "       [4.17477202],\n",
       "       [4.15106789],\n",
       "       [4.30891475],\n",
       "       [4.26572858],\n",
       "       [4.28255436],\n",
       "       [4.19273347],\n",
       "       [4.1416628 ],\n",
       "       [4.22573048],\n",
       "       [4.33129602],\n",
       "       [4.34179911],\n",
       "       [4.29113297],\n",
       "       [4.17477202],\n",
       "       [4.18529908],\n",
       "       [4.29591235],\n",
       "       [4.37212519],\n",
       "       [4.12767165],\n",
       "       [4.15723648],\n",
       "       [4.291705  ],\n",
       "       [4.30127963],\n",
       "       [4.22573048],\n",
       "       [4.31222523],\n",
       "       [4.34534255],\n",
       "       [4.30533436],\n",
       "       [4.14541431],\n",
       "       [4.32811309],\n",
       "       [4.1603876 ],\n",
       "       [4.379042  ],\n",
       "       [4.22769434],\n",
       "       [4.2178955 ],\n",
       "       [4.19118234],\n",
       "       [4.25880323],\n",
       "       [4.33129602],\n",
       "       [4.30031855],\n",
       "       [4.36922288],\n",
       "       [4.32217786],\n",
       "       [4.2829532 ],\n",
       "       [4.26687469],\n",
       "       [4.33114279],\n",
       "       [4.16636062],\n",
       "       [4.19673295],\n",
       "       [4.22525303],\n",
       "       [4.3922386 ],\n",
       "       [4.32371589],\n",
       "       [4.2178955 ],\n",
       "       [4.26839256],\n",
       "       [4.289703  ],\n",
       "       [4.17477202],\n",
       "       [4.35505677],\n",
       "       [4.37981417],\n",
       "       [4.23388664],\n",
       "       [4.31376863],\n",
       "       [4.24629826],\n",
       "       [4.31625941],\n",
       "       [4.31771918],\n",
       "       [4.50444386],\n",
       "       [4.29639011],\n",
       "       [4.33129602],\n",
       "       [4.18353362],\n",
       "       [4.15723648],\n",
       "       [4.34137934],\n",
       "       [4.27673622],\n",
       "       [4.27161914],\n",
       "       [4.28890264],\n",
       "       [3.99364528],\n",
       "       [4.20004623],\n",
       "       [4.15768705],\n",
       "       [4.3203268 ],\n",
       "       [4.21469859],\n",
       "       [4.26918723],\n",
       "       [4.22364894],\n",
       "       [4.2998329 ],\n",
       "       [4.11742035],\n",
       "       [4.15259968],\n",
       "       [4.24471458],\n",
       "       [4.22222721],\n",
       "       [4.37633751],\n",
       "       [4.28215916],\n",
       "       [4.34009312],\n",
       "       [4.24006524],\n",
       "       [4.32368441],\n",
       "       [4.25792088],\n",
       "       [4.35624074],\n",
       "       [4.23399087],\n",
       "       [4.26005176],\n",
       "       [4.20146028],\n",
       "       [4.24819181],\n",
       "       [4.21780434],\n",
       "       [4.27526532],\n",
       "       [4.23457909],\n",
       "       [4.2164614 ],\n",
       "       [4.16017509],\n",
       "       [4.29260786],\n",
       "       [4.64148015],\n",
       "       [4.28180484],\n",
       "       [4.24006524],\n",
       "       [4.34383329],\n",
       "       [4.21494628],\n",
       "       [4.28853262],\n",
       "       [4.2226999 ],\n",
       "       [4.25575745],\n",
       "       [4.29206383],\n",
       "       [4.16288708],\n",
       "       [4.25631817],\n",
       "       [4.27526532],\n",
       "       [4.38436521],\n",
       "       [4.19155612],\n",
       "       [4.33830202],\n",
       "       [4.185504  ],\n",
       "       [4.22448947],\n",
       "       [4.43040934],\n",
       "       [4.31400601],\n",
       "       [4.16801706],\n",
       "       [4.24928529],\n",
       "       [4.25643151],\n",
       "       [4.22508158],\n",
       "       [4.18749377],\n",
       "       [4.31099673],\n",
       "       [4.24750322],\n",
       "       [4.23891222],\n",
       "       [4.3795264 ],\n",
       "       [4.32595355],\n",
       "       [4.23388664],\n",
       "       [4.24006524],\n",
       "       [4.26330444],\n",
       "       [4.32381171],\n",
       "       [4.23392414],\n",
       "       [4.3127657 ],\n",
       "       [4.33039739],\n",
       "       [4.38343924],\n",
       "       [4.38780954],\n",
       "       [4.26749216],\n",
       "       [4.17703775],\n",
       "       [4.43407424],\n",
       "       [4.28168681],\n",
       "       [4.32314341],\n",
       "       [4.27514427],\n",
       "       [4.2947284 ],\n",
       "       [4.33122459],\n",
       "       [4.25006428],\n",
       "       [4.27856538],\n",
       "       [4.21018026],\n",
       "       [4.19132598],\n",
       "       [4.21469859],\n",
       "       [4.31047961],\n",
       "       [4.37595035],\n",
       "       [4.1925367 ],\n",
       "       [4.2705129 ],\n",
       "       [4.25681993],\n",
       "       [4.34223427],\n",
       "       [4.27347024],\n",
       "       [4.30042276],\n",
       "       [4.35624074],\n",
       "       [4.36730253],\n",
       "       [4.28316778],\n",
       "       [4.33939583],\n",
       "       [4.19122025],\n",
       "       [4.32448374],\n",
       "       [4.27532991],\n",
       "       [4.13955678],\n",
       "       [4.22455206],\n",
       "       [4.21780434],\n",
       "       [4.3742131 ],\n",
       "       [4.21152371],\n",
       "       [4.35047287],\n",
       "       [4.29291699],\n",
       "       [4.28929926],\n",
       "       [4.21786688],\n",
       "       [4.21881383],\n",
       "       [4.33612224],\n",
       "       [4.32954475],\n",
       "       [4.25180093],\n",
       "       [4.185504  ],\n",
       "       [4.32857862],\n",
       "       [4.37109285],\n",
       "       [4.32443359],\n",
       "       [4.291705  ],\n",
       "       [4.41364742],\n",
       "       [4.22304678],\n",
       "       [4.33879059],\n",
       "       [4.32628941],\n",
       "       [4.29895893],\n",
       "       [4.20693774],\n",
       "       [4.24025661]])"
      ]
     },
     "execution_count": 74,
     "metadata": {},
     "output_type": "execute_result"
    }
   ],
   "source": [
    "y_prediction = regressor.predict(X_test)\n",
    "y_prediction"
   ]
  },
  {
   "cell_type": "code",
   "execution_count": 75,
   "metadata": {},
   "outputs": [
    {
     "name": "stdout",
     "output_type": "stream",
     "text": [
      "Min:  3.9936452760946657\n",
      "Max:  4.641480147458698\n",
      "Mean:  4.270467161750242\n"
     ]
    }
   ],
   "source": [
    "print(\"Min: \", y_prediction.min())\n",
    "print(\"Max: \", y_prediction.max())\n",
    "print(\"Mean: \",y_prediction.mean())"
   ]
  },
  {
   "cell_type": "code",
   "execution_count": 76,
   "metadata": {},
   "outputs": [
    {
     "data": {
      "text/html": [
       "<div>\n",
       "<style scoped>\n",
       "    .dataframe tbody tr th:only-of-type {\n",
       "        vertical-align: middle;\n",
       "    }\n",
       "\n",
       "    .dataframe tbody tr th {\n",
       "        vertical-align: top;\n",
       "    }\n",
       "\n",
       "    .dataframe thead th {\n",
       "        text-align: right;\n",
       "    }\n",
       "</style>\n",
       "<table border=\"1\" class=\"dataframe\">\n",
       "  <thead>\n",
       "    <tr style=\"text-align: right;\">\n",
       "      <th></th>\n",
       "      <th>Rating</th>\n",
       "    </tr>\n",
       "  </thead>\n",
       "  <tbody>\n",
       "    <tr>\n",
       "      <th>count</th>\n",
       "      <td>268.000000</td>\n",
       "    </tr>\n",
       "    <tr>\n",
       "      <th>mean</th>\n",
       "      <td>4.300373</td>\n",
       "    </tr>\n",
       "    <tr>\n",
       "      <th>std</th>\n",
       "      <td>0.296104</td>\n",
       "    </tr>\n",
       "    <tr>\n",
       "      <th>min</th>\n",
       "      <td>2.700000</td>\n",
       "    </tr>\n",
       "    <tr>\n",
       "      <th>25%</th>\n",
       "      <td>4.100000</td>\n",
       "    </tr>\n",
       "    <tr>\n",
       "      <th>50%</th>\n",
       "      <td>4.300000</td>\n",
       "    </tr>\n",
       "    <tr>\n",
       "      <th>75%</th>\n",
       "      <td>4.500000</td>\n",
       "    </tr>\n",
       "    <tr>\n",
       "      <th>max</th>\n",
       "      <td>4.900000</td>\n",
       "    </tr>\n",
       "  </tbody>\n",
       "</table>\n",
       "</div>"
      ],
      "text/plain": [
       "           Rating\n",
       "count  268.000000\n",
       "mean     4.300373\n",
       "std      0.296104\n",
       "min      2.700000\n",
       "25%      4.100000\n",
       "50%      4.300000\n",
       "75%      4.500000\n",
       "max      4.900000"
      ]
     },
     "execution_count": 76,
     "metadata": {},
     "output_type": "execute_result"
    }
   ],
   "source": [
    "y_test.describe()"
   ]
  },
  {
   "cell_type": "code",
   "execution_count": 77,
   "metadata": {},
   "outputs": [],
   "source": [
    "RMSE = sqrt(mean_squared_error(y_true = y_test, y_pred = y_prediction))"
   ]
  },
  {
   "cell_type": "code",
   "execution_count": 78,
   "metadata": {},
   "outputs": [
    {
     "name": "stdout",
     "output_type": "stream",
     "text": [
      "0.2927830970916976\n"
     ]
    }
   ],
   "source": [
    "print(RMSE)"
   ]
  },
  {
   "cell_type": "markdown",
   "metadata": {},
   "source": [
    "### Regression Analysis Using Decision Tree Regressor"
   ]
  },
  {
   "cell_type": "code",
   "execution_count": 79,
   "metadata": {},
   "outputs": [
    {
     "data": {
      "text/plain": [
       "DecisionTreeRegressor(criterion='mse', max_depth=9, max_features=None,\n",
       "           max_leaf_nodes=None, min_impurity_decrease=0.0,\n",
       "           min_impurity_split=None, min_samples_leaf=1,\n",
       "           min_samples_split=2, min_weight_fraction_leaf=0.0,\n",
       "           presort=False, random_state=None, splitter='best')"
      ]
     },
     "execution_count": 79,
     "metadata": {},
     "output_type": "execute_result"
    }
   ],
   "source": [
    "regressor = DecisionTreeRegressor(max_depth=9)\n",
    "regressor.fit(X_train, y_train)"
   ]
  },
  {
   "cell_type": "code",
   "execution_count": 80,
   "metadata": {},
   "outputs": [
    {
     "data": {
      "text/plain": [
       "array([3.8       , 4.36153846, 3.8       , 2.7       , 4.36153846,\n",
       "       4.36153846, 4.1       , 4.36153846, 4.36153846, 4.22      ,\n",
       "       4.36153846, 4.36153846, 4.6       , 4.15714286, 4.36153846,\n",
       "       4.2       , 4.45      , 4.1       , 4.36153846, 4.55555556,\n",
       "       4.20333333, 4.22      , 4.36153846, 4.36153846, 4.15714286,\n",
       "       4.2       , 4.24285714, 4.15714286, 4.4       , 4.36153846,\n",
       "       4.26216216, 4.2       , 4.4       , 4.36153846, 4.1       ,\n",
       "       4.20333333, 4.20333333, 4.20333333, 4.36153846, 4.36153846,\n",
       "       4.36153846, 4.55714286, 4.36153846, 4.7       , 4.25      ,\n",
       "       4.36153846, 3.8       , 3.8       , 4.55555556, 4.36153846,\n",
       "       4.26216216, 4.36153846, 4.2       , 4.26      , 4.36153846,\n",
       "       4.4       , 4.15714286, 4.36153846, 4.1       , 4.4       ,\n",
       "       4.8       , 4.25      , 2.7       , 4.8       , 4.36153846,\n",
       "       4.22      , 4.36153846, 4.3       , 4.36153846, 4.36153846,\n",
       "       4.4       , 4.55555556, 4.6       , 4.26216216, 4.24285714,\n",
       "       4.35      , 4.36153846, 4.36153846, 4.36153846, 4.4       ,\n",
       "       4.2       , 4.4       , 4.36153846, 4.25      , 4.2       ,\n",
       "       4.4       , 4.4       , 4.13333333, 4.36153846, 4.24285714,\n",
       "       4.22      , 4.3       , 4.25      , 4.36153846, 3.9       ,\n",
       "       4.36153846, 4.4       , 4.55555556, 4.36153846, 4.26216216,\n",
       "       2.7       , 4.1       , 4.36153846, 4.36153846, 4.25      ,\n",
       "       4.36153846, 4.36153846, 4.36153846, 4.1       , 4.26216216,\n",
       "       3.83333333, 4.675     , 4.25      , 4.20333333, 4.55555556,\n",
       "       4.6       , 4.36153846, 4.36153846, 4.26216216, 4.35      ,\n",
       "       4.5       , 4.36153846, 4.36153846, 4.26      , 4.22      ,\n",
       "       3.5       , 4.36153846, 4.36153846, 4.20333333, 4.20333333,\n",
       "       4.36153846, 4.4       , 4.36153846, 4.675     , 4.38333333,\n",
       "       4.36153846, 4.4       , 4.36153846, 4.36153846, 4.8       ,\n",
       "       4.36153846, 4.36153846, 3.6       , 4.1       , 4.36153846,\n",
       "       4.1       , 4.24285714, 4.15714286, 4.3       , 4.4       ,\n",
       "       4.1       , 4.36153846, 4.38333333, 4.36153846, 4.3       ,\n",
       "       4.36153846, 2.7       , 4.4       , 4.25      , 3.9       ,\n",
       "       4.36153846, 4.36153846, 4.4       , 4.4       , 4.36153846,\n",
       "       4.2       , 4.36153846, 4.20333333, 4.36153846, 4.4       ,\n",
       "       4.15714286, 4.2       , 3.8       , 4.25      , 4.5       ,\n",
       "       3.83333333, 3.7       , 4.2       , 4.5       , 4.4       ,\n",
       "       4.36153846, 4.1       , 4.2       , 4.38333333, 4.36153846,\n",
       "       4.1       , 4.26      , 4.2       , 3.8       , 4.675     ,\n",
       "       4.6       , 4.3       , 4.45      , 4.25      , 4.35      ,\n",
       "       4.36153846, 4.26      , 4.20333333, 4.25      , 4.25      ,\n",
       "       4.45      , 4.36153846, 4.36153846, 4.20333333, 4.675     ,\n",
       "       4.36153846, 4.38333333, 4.4       , 4.36153846, 4.35      ,\n",
       "       4.4       , 4.36153846, 4.36153846, 4.36153846, 4.36153846,\n",
       "       3.9       , 4.26      , 4.55714286, 4.24285714, 4.35      ,\n",
       "       4.36153846, 4.1       , 4.36153846, 4.20333333, 4.36153846,\n",
       "       4.25      , 4.8       , 4.38333333, 4.36153846, 4.26216216,\n",
       "       4.4       , 4.36153846, 4.2       , 4.36153846, 4.1       ,\n",
       "       4.36153846, 4.36153846, 4.26216216, 3.8       , 4.36153846,\n",
       "       4.55555556, 4.26216216, 4.36153846, 4.4       , 4.38333333,\n",
       "       4.2       , 4.26216216, 4.38333333, 4.26216216, 4.36153846,\n",
       "       4.36153846, 4.25      , 3.9       , 4.36153846, 4.26216216,\n",
       "       4.2       , 4.45      , 4.26216216, 4.3       , 4.26216216,\n",
       "       4.36153846, 4.35      , 3.9       , 4.36153846, 4.36153846,\n",
       "       4.36153846, 4.22      , 4.25      ])"
      ]
     },
     "execution_count": 80,
     "metadata": {},
     "output_type": "execute_result"
    }
   ],
   "source": [
    "y_prediction = regressor.predict(X_test)\n",
    "y_prediction"
   ]
  },
  {
   "cell_type": "code",
   "execution_count": 81,
   "metadata": {},
   "outputs": [
    {
     "name": "stdout",
     "output_type": "stream",
     "text": [
      "Min:  2.7\n",
      "Max:  4.8\n",
      "Mean:  4.276462519596849\n"
     ]
    }
   ],
   "source": [
    "print(\"Min: \", y_prediction.min())\n",
    "print(\"Max: \", y_prediction.max())\n",
    "print(\"Mean: \",y_prediction.mean())"
   ]
  },
  {
   "cell_type": "code",
   "execution_count": 82,
   "metadata": {},
   "outputs": [
    {
     "data": {
      "text/html": [
       "<div>\n",
       "<style scoped>\n",
       "    .dataframe tbody tr th:only-of-type {\n",
       "        vertical-align: middle;\n",
       "    }\n",
       "\n",
       "    .dataframe tbody tr th {\n",
       "        vertical-align: top;\n",
       "    }\n",
       "\n",
       "    .dataframe thead th {\n",
       "        text-align: right;\n",
       "    }\n",
       "</style>\n",
       "<table border=\"1\" class=\"dataframe\">\n",
       "  <thead>\n",
       "    <tr style=\"text-align: right;\">\n",
       "      <th></th>\n",
       "      <th>Rating</th>\n",
       "    </tr>\n",
       "  </thead>\n",
       "  <tbody>\n",
       "    <tr>\n",
       "      <th>count</th>\n",
       "      <td>268.000000</td>\n",
       "    </tr>\n",
       "    <tr>\n",
       "      <th>mean</th>\n",
       "      <td>4.300373</td>\n",
       "    </tr>\n",
       "    <tr>\n",
       "      <th>std</th>\n",
       "      <td>0.296104</td>\n",
       "    </tr>\n",
       "    <tr>\n",
       "      <th>min</th>\n",
       "      <td>2.700000</td>\n",
       "    </tr>\n",
       "    <tr>\n",
       "      <th>25%</th>\n",
       "      <td>4.100000</td>\n",
       "    </tr>\n",
       "    <tr>\n",
       "      <th>50%</th>\n",
       "      <td>4.300000</td>\n",
       "    </tr>\n",
       "    <tr>\n",
       "      <th>75%</th>\n",
       "      <td>4.500000</td>\n",
       "    </tr>\n",
       "    <tr>\n",
       "      <th>max</th>\n",
       "      <td>4.900000</td>\n",
       "    </tr>\n",
       "  </tbody>\n",
       "</table>\n",
       "</div>"
      ],
      "text/plain": [
       "           Rating\n",
       "count  268.000000\n",
       "mean     4.300373\n",
       "std      0.296104\n",
       "min      2.700000\n",
       "25%      4.100000\n",
       "50%      4.300000\n",
       "75%      4.500000\n",
       "max      4.900000"
      ]
     },
     "execution_count": 82,
     "metadata": {},
     "output_type": "execute_result"
    }
   ],
   "source": [
    "y_test.describe()"
   ]
  },
  {
   "cell_type": "code",
   "execution_count": 83,
   "metadata": {},
   "outputs": [],
   "source": [
    "RMSE = sqrt(mean_squared_error(y_true = y_test, y_pred = y_prediction))"
   ]
  },
  {
   "cell_type": "code",
   "execution_count": 84,
   "metadata": {},
   "outputs": [
    {
     "name": "stdout",
     "output_type": "stream",
     "text": [
      "0.30565474819566274\n"
     ]
    }
   ],
   "source": [
    "print(RMSE)"
   ]
  }
 ],
 "metadata": {
  "kernelspec": {
   "display_name": "Python 3",
   "language": "python",
   "name": "python3"
  },
  "language_info": {
   "codemirror_mode": {
    "name": "ipython",
    "version": 3
   },
   "file_extension": ".py",
   "mimetype": "text/x-python",
   "name": "python",
   "nbconvert_exporter": "python",
   "pygments_lexer": "ipython3",
   "version": "3.7.3"
  }
 },
 "nbformat": 4,
 "nbformat_minor": 2
}
